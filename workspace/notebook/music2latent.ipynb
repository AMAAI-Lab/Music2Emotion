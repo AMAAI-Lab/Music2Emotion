{
 "cells": [
  {
   "cell_type": "code",
   "execution_count": 1,
   "metadata": {},
   "outputs": [
    {
     "name": "stdout",
     "output_type": "stream",
     "text": [
      "Downloading model...\n"
     ]
    },
    {
     "data": {
      "application/vnd.jupyter.widget-view+json": {
       "model_id": "9ef47f5f19c8433fa5240c94491f3dbd",
       "version_major": 2,
       "version_minor": 0
      },
      "text/plain": [
       "music2latent.pt:   0%|          | 0.00/233M [00:00<?, ?B/s]"
      ]
     },
     "metadata": {},
     "output_type": "display_data"
    },
    {
     "name": "stdout",
     "output_type": "stream",
     "text": [
      "Model was downloaded successfully!\n",
      "waveform samples: (6438600,)\n",
      "Shape of latents: torch.Size([1, 64, 1571])\n",
      "Shape of features: torch.Size([1, 8192, 1571])\n"
     ]
    }
   ],
   "source": [
    "import numpy as np\n",
    "import IPython\n",
    "import librosa\n",
    "from music2latent import EncoderDecoder\n",
    "\n",
    "encdec = EncoderDecoder()\n",
    "# audio_path = librosa.example('trumpet')\n",
    "audio_path = \"../data/7400.mp3\"\n",
    "wv, sr = librosa.load(audio_path, sr=44100)\n",
    "\n",
    "print(f'waveform samples: {wv.shape}')\n",
    "\n",
    "latent = encdec.encode(wv)\n",
    "features = encdec.encode(wv, extract_features=True)\n",
    "\n",
    "print(f'Shape of latents: {latent.shape}')\n",
    "print(f'Shape of features: {features.shape}')\n",
    "\n",
    "# Model was downloaded successfully!\n",
    "# waveform samples: (6438600,)\n",
    "# Shape of latents: torch.Size([1, 64, 1571])\n",
    "# Shape of features: torch.Size([1, 8192, 1571])\n",
    "\n",
    "\n",
    "\n",
    "\n",
    "\n",
    "\n",
    "# wv, sr = librosa.load(audio_path, sr=44100)\n",
    "# # create a batch of waveforms\n",
    "# wv_batched = np.stack([wv]*3, axis=0)\n",
    "# print(f'batch of waveforms shape: {wv_batched.shape}')\n",
    "# latent_batched = encdec.encode(wv_batched)\n",
    "# print(f'Shape of batched latents: {latent_batched.shape}')\n",
    "# audio_path = librosa.example('trumpet')\n",
    "# wv, sr = librosa.load(audio_path, sr=44100)\n",
    "# encdec = EncoderDecoder()\n",
    "# latent = encdec.encode(wv)\n",
    "# latent has shape (batch_size/audio_channels, dim (64), sequence_length)\n",
    "# wv_rec = encdec.decode(latent)\n",
    "# features = encoder.encode(wv, extract_features=True)"
   ]
  },
  {
   "cell_type": "code",
   "execution_count": 3,
   "metadata": {},
   "outputs": [
    {
     "name": "stdout",
     "output_type": "stream",
     "text": [
      "torch.Size([1, 8192, 1571])\n",
      "Extracted features shape: (8192,)\n"
     ]
    }
   ],
   "source": [
    "import librosa\n",
    "import numpy as np\n",
    "from music2latent import EncoderDecoder\n",
    "\n",
    "def extract_features(audio_path):\n",
    "    encdec = EncoderDecoder()\n",
    "    wv, sr = librosa.load(audio_path, sr=44100)\n",
    "    \n",
    "    features = encdec.encode(wv, extract_features=True)\n",
    "    print(features.shape)\n",
    "    \n",
    "    \n",
    "    # Flatten and average along time axis\n",
    "    features = features.squeeze().mean(axis=-1)\n",
    "    \n",
    "    return features.cpu().numpy()\n",
    "\n",
    "# Example usage:\n",
    "audio_path = \"../data/7400.mp3\"\n",
    "features = extract_features(audio_path)\n",
    "print(f\"Extracted features shape: {features.shape}\")\n",
    "\n"
   ]
  }
 ],
 "metadata": {
  "kernelspec": {
   "display_name": "music2emo",
   "language": "python",
   "name": "python3"
  },
  "language_info": {
   "codemirror_mode": {
    "name": "ipython",
    "version": 3
   },
   "file_extension": ".py",
   "mimetype": "text/x-python",
   "name": "python",
   "nbconvert_exporter": "python",
   "pygments_lexer": "ipython3",
   "version": "3.10.14"
  }
 },
 "nbformat": 4,
 "nbformat_minor": 2
}
